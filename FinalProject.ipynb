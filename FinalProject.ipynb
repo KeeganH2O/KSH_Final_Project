{
  "nbformat": 4,
  "nbformat_minor": 0,
  "metadata": {
    "colab": {
      "provenance": []
    },
    "kernelspec": {
      "name": "python3",
      "display_name": "Python 3"
    },
    "language_info": {
      "name": "python"
    }
  },
  "cells": [
    {
      "cell_type": "code",
      "execution_count": 339,
      "metadata": {
        "id": "koUmnPhk_N5_"
      },
      "outputs": [],
      "source": [
        "import pandas as pd\n",
        "import numpy as np\n",
        "import seaborn as sns\n",
        "import tensorflow as tf\n",
        "from tensorflow import keras\n",
        "from tensorflow.keras.layers import Dense\n",
        "from tensorflow.keras import Sequential\n",
        "import matplotlib.pyplot as plt\n",
        "from sklearn.model_selection import train_test_split"
      ]
    },
    {
      "cell_type": "markdown",
      "source": [
        "###LMPD Data of Stops (2022)"
      ],
      "metadata": {
        "id": "MOXiv7NhF-jl"
      }
    },
    {
      "cell_type": "code",
      "source": [
        "data = pd.read_csv(\"/content/drive/MyDrive/Colab Notebooks/Assignments/Final Project/LMPD_STOP_DATA_2022.csv\")"
      ],
      "metadata": {
        "id": "VwW6iqhQCybQ"
      },
      "execution_count": 340,
      "outputs": []
    },
    {
      "cell_type": "code",
      "source": [
        "data.head()"
      ],
      "metadata": {
        "colab": {
          "base_uri": "https://localhost:8080/",
          "height": 374
        },
        "id": "2qV0BqgIC-5O",
        "outputId": "63314899-5e4e-4327-8cf2-6c5e81f2f44b"
      },
      "execution_count": 341,
      "outputs": [
        {
          "output_type": "execute_result",
          "data": {
            "text/plain": [
              "                   TYPE_OF_STOP CITATION_CONTROL_NUMBER ACTIVITY RESULTS  \\\n",
              "0  COMPLAINT/CRIMINAL VIOLATION            DU03293       CITATION ISSUED   \n",
              "1  COMPLAINT/CRIMINAL VIOLATION            DV75866       CITATION ISSUED   \n",
              "2  COMPLAINT/CRIMINAL VIOLATION            DV87754       CITATION ISSUED   \n",
              "3  COMPLAINT/CRIMINAL VIOLATION            DW19051       CITATION ISSUED   \n",
              "4  COMPLAINT/CRIMINAL VIOLATION            DX65321       CITATION ISSUED   \n",
              "\n",
              "  OFFICER_GENDER OFFICER_RACE OFFICER_AGE_RANGE ACTIVITY_DATE ACTIVITY_TIME  \\\n",
              "0              M        WHITE           21 - 30    01/02/2022         21:44   \n",
              "1              M        WHITE           51 - 60    07/21/2022         02:00   \n",
              "2              M        WHITE           51 - 60    07/21/2022         02:00   \n",
              "3              M        WHITE           21 - 30    01/25/2022         11:23   \n",
              "4              M        WHITE           31 - 40    01/13/2022         05:30   \n",
              "\n",
              "                                   ACTIVITY_LOCATION ACTIVITY_DIVISION  \\\n",
              "0  M ST                                          ...      4TH DIVISION   \n",
              "1  KEEGAN WAY                                    ...      7TH DIVISION   \n",
              "2  KEEGAN WAY                                    ...      7TH DIVISION   \n",
              "3                          4500 BLOCK  SOUTHERN PKWY      4TH DIVISION   \n",
              "4  PRESTON HWY @ OUTER LOOP                      ...      7TH DIVISION   \n",
              "\n",
              "  ACTIVITY_BEAT DRIVER_GENDER DRIVER_RACE DRIVER_AGE_RANGE  \\\n",
              "0        BEAT 4             M       WHITE          26 - 30   \n",
              "1        BEAT 1             M    HISPANIC          16 - 19   \n",
              "2        BEAT 1             M    HISPANIC          16 - 19   \n",
              "3        BEAT 6             M       WHITE          20 - 25   \n",
              "4        BEAT 6             M       WHITE          51 - 60   \n",
              "\n",
              "   NUMBER OF PASSENGERS WAS_VEHCILE_SEARCHED  REASON_FOR_SEARCH  \n",
              "0                     2                  YES                NaN  \n",
              "1                     1                  YES                4.0  \n",
              "2                     1                   NO                NaN  \n",
              "3                     0                  YES                4.0  \n",
              "4                     1                  YES                3.0  "
            ],
            "text/html": [
              "\n",
              "  <div id=\"df-ce8cb73a-1dc5-493a-bebe-738bbc4c6821\">\n",
              "    <div class=\"colab-df-container\">\n",
              "      <div>\n",
              "<style scoped>\n",
              "    .dataframe tbody tr th:only-of-type {\n",
              "        vertical-align: middle;\n",
              "    }\n",
              "\n",
              "    .dataframe tbody tr th {\n",
              "        vertical-align: top;\n",
              "    }\n",
              "\n",
              "    .dataframe thead th {\n",
              "        text-align: right;\n",
              "    }\n",
              "</style>\n",
              "<table border=\"1\" class=\"dataframe\">\n",
              "  <thead>\n",
              "    <tr style=\"text-align: right;\">\n",
              "      <th></th>\n",
              "      <th>TYPE_OF_STOP</th>\n",
              "      <th>CITATION_CONTROL_NUMBER</th>\n",
              "      <th>ACTIVITY RESULTS</th>\n",
              "      <th>OFFICER_GENDER</th>\n",
              "      <th>OFFICER_RACE</th>\n",
              "      <th>OFFICER_AGE_RANGE</th>\n",
              "      <th>ACTIVITY_DATE</th>\n",
              "      <th>ACTIVITY_TIME</th>\n",
              "      <th>ACTIVITY_LOCATION</th>\n",
              "      <th>ACTIVITY_DIVISION</th>\n",
              "      <th>ACTIVITY_BEAT</th>\n",
              "      <th>DRIVER_GENDER</th>\n",
              "      <th>DRIVER_RACE</th>\n",
              "      <th>DRIVER_AGE_RANGE</th>\n",
              "      <th>NUMBER OF PASSENGERS</th>\n",
              "      <th>WAS_VEHCILE_SEARCHED</th>\n",
              "      <th>REASON_FOR_SEARCH</th>\n",
              "    </tr>\n",
              "  </thead>\n",
              "  <tbody>\n",
              "    <tr>\n",
              "      <th>0</th>\n",
              "      <td>COMPLAINT/CRIMINAL VIOLATION</td>\n",
              "      <td>DU03293</td>\n",
              "      <td>CITATION ISSUED</td>\n",
              "      <td>M</td>\n",
              "      <td>WHITE</td>\n",
              "      <td>21 - 30</td>\n",
              "      <td>01/02/2022</td>\n",
              "      <td>21:44</td>\n",
              "      <td>M ST                                          ...</td>\n",
              "      <td>4TH DIVISION</td>\n",
              "      <td>BEAT 4</td>\n",
              "      <td>M</td>\n",
              "      <td>WHITE</td>\n",
              "      <td>26 - 30</td>\n",
              "      <td>2</td>\n",
              "      <td>YES</td>\n",
              "      <td>NaN</td>\n",
              "    </tr>\n",
              "    <tr>\n",
              "      <th>1</th>\n",
              "      <td>COMPLAINT/CRIMINAL VIOLATION</td>\n",
              "      <td>DV75866</td>\n",
              "      <td>CITATION ISSUED</td>\n",
              "      <td>M</td>\n",
              "      <td>WHITE</td>\n",
              "      <td>51 - 60</td>\n",
              "      <td>07/21/2022</td>\n",
              "      <td>02:00</td>\n",
              "      <td>KEEGAN WAY                                    ...</td>\n",
              "      <td>7TH DIVISION</td>\n",
              "      <td>BEAT 1</td>\n",
              "      <td>M</td>\n",
              "      <td>HISPANIC</td>\n",
              "      <td>16 - 19</td>\n",
              "      <td>1</td>\n",
              "      <td>YES</td>\n",
              "      <td>4.0</td>\n",
              "    </tr>\n",
              "    <tr>\n",
              "      <th>2</th>\n",
              "      <td>COMPLAINT/CRIMINAL VIOLATION</td>\n",
              "      <td>DV87754</td>\n",
              "      <td>CITATION ISSUED</td>\n",
              "      <td>M</td>\n",
              "      <td>WHITE</td>\n",
              "      <td>51 - 60</td>\n",
              "      <td>07/21/2022</td>\n",
              "      <td>02:00</td>\n",
              "      <td>KEEGAN WAY                                    ...</td>\n",
              "      <td>7TH DIVISION</td>\n",
              "      <td>BEAT 1</td>\n",
              "      <td>M</td>\n",
              "      <td>HISPANIC</td>\n",
              "      <td>16 - 19</td>\n",
              "      <td>1</td>\n",
              "      <td>NO</td>\n",
              "      <td>NaN</td>\n",
              "    </tr>\n",
              "    <tr>\n",
              "      <th>3</th>\n",
              "      <td>COMPLAINT/CRIMINAL VIOLATION</td>\n",
              "      <td>DW19051</td>\n",
              "      <td>CITATION ISSUED</td>\n",
              "      <td>M</td>\n",
              "      <td>WHITE</td>\n",
              "      <td>21 - 30</td>\n",
              "      <td>01/25/2022</td>\n",
              "      <td>11:23</td>\n",
              "      <td>4500 BLOCK  SOUTHERN PKWY</td>\n",
              "      <td>4TH DIVISION</td>\n",
              "      <td>BEAT 6</td>\n",
              "      <td>M</td>\n",
              "      <td>WHITE</td>\n",
              "      <td>20 - 25</td>\n",
              "      <td>0</td>\n",
              "      <td>YES</td>\n",
              "      <td>4.0</td>\n",
              "    </tr>\n",
              "    <tr>\n",
              "      <th>4</th>\n",
              "      <td>COMPLAINT/CRIMINAL VIOLATION</td>\n",
              "      <td>DX65321</td>\n",
              "      <td>CITATION ISSUED</td>\n",
              "      <td>M</td>\n",
              "      <td>WHITE</td>\n",
              "      <td>31 - 40</td>\n",
              "      <td>01/13/2022</td>\n",
              "      <td>05:30</td>\n",
              "      <td>PRESTON HWY @ OUTER LOOP                      ...</td>\n",
              "      <td>7TH DIVISION</td>\n",
              "      <td>BEAT 6</td>\n",
              "      <td>M</td>\n",
              "      <td>WHITE</td>\n",
              "      <td>51 - 60</td>\n",
              "      <td>1</td>\n",
              "      <td>YES</td>\n",
              "      <td>3.0</td>\n",
              "    </tr>\n",
              "  </tbody>\n",
              "</table>\n",
              "</div>\n",
              "      <button class=\"colab-df-convert\" onclick=\"convertToInteractive('df-ce8cb73a-1dc5-493a-bebe-738bbc4c6821')\"\n",
              "              title=\"Convert this dataframe to an interactive table.\"\n",
              "              style=\"display:none;\">\n",
              "        \n",
              "  <svg xmlns=\"http://www.w3.org/2000/svg\" height=\"24px\"viewBox=\"0 0 24 24\"\n",
              "       width=\"24px\">\n",
              "    <path d=\"M0 0h24v24H0V0z\" fill=\"none\"/>\n",
              "    <path d=\"M18.56 5.44l.94 2.06.94-2.06 2.06-.94-2.06-.94-.94-2.06-.94 2.06-2.06.94zm-11 1L8.5 8.5l.94-2.06 2.06-.94-2.06-.94L8.5 2.5l-.94 2.06-2.06.94zm10 10l.94 2.06.94-2.06 2.06-.94-2.06-.94-.94-2.06-.94 2.06-2.06.94z\"/><path d=\"M17.41 7.96l-1.37-1.37c-.4-.4-.92-.59-1.43-.59-.52 0-1.04.2-1.43.59L10.3 9.45l-7.72 7.72c-.78.78-.78 2.05 0 2.83L4 21.41c.39.39.9.59 1.41.59.51 0 1.02-.2 1.41-.59l7.78-7.78 2.81-2.81c.8-.78.8-2.07 0-2.86zM5.41 20L4 18.59l7.72-7.72 1.47 1.35L5.41 20z\"/>\n",
              "  </svg>\n",
              "      </button>\n",
              "      \n",
              "  <style>\n",
              "    .colab-df-container {\n",
              "      display:flex;\n",
              "      flex-wrap:wrap;\n",
              "      gap: 12px;\n",
              "    }\n",
              "\n",
              "    .colab-df-convert {\n",
              "      background-color: #E8F0FE;\n",
              "      border: none;\n",
              "      border-radius: 50%;\n",
              "      cursor: pointer;\n",
              "      display: none;\n",
              "      fill: #1967D2;\n",
              "      height: 32px;\n",
              "      padding: 0 0 0 0;\n",
              "      width: 32px;\n",
              "    }\n",
              "\n",
              "    .colab-df-convert:hover {\n",
              "      background-color: #E2EBFA;\n",
              "      box-shadow: 0px 1px 2px rgba(60, 64, 67, 0.3), 0px 1px 3px 1px rgba(60, 64, 67, 0.15);\n",
              "      fill: #174EA6;\n",
              "    }\n",
              "\n",
              "    [theme=dark] .colab-df-convert {\n",
              "      background-color: #3B4455;\n",
              "      fill: #D2E3FC;\n",
              "    }\n",
              "\n",
              "    [theme=dark] .colab-df-convert:hover {\n",
              "      background-color: #434B5C;\n",
              "      box-shadow: 0px 1px 3px 1px rgba(0, 0, 0, 0.15);\n",
              "      filter: drop-shadow(0px 1px 2px rgba(0, 0, 0, 0.3));\n",
              "      fill: #FFFFFF;\n",
              "    }\n",
              "  </style>\n",
              "\n",
              "      <script>\n",
              "        const buttonEl =\n",
              "          document.querySelector('#df-ce8cb73a-1dc5-493a-bebe-738bbc4c6821 button.colab-df-convert');\n",
              "        buttonEl.style.display =\n",
              "          google.colab.kernel.accessAllowed ? 'block' : 'none';\n",
              "\n",
              "        async function convertToInteractive(key) {\n",
              "          const element = document.querySelector('#df-ce8cb73a-1dc5-493a-bebe-738bbc4c6821');\n",
              "          const dataTable =\n",
              "            await google.colab.kernel.invokeFunction('convertToInteractive',\n",
              "                                                     [key], {});\n",
              "          if (!dataTable) return;\n",
              "\n",
              "          const docLinkHtml = 'Like what you see? Visit the ' +\n",
              "            '<a target=\"_blank\" href=https://colab.research.google.com/notebooks/data_table.ipynb>data table notebook</a>'\n",
              "            + ' to learn more about interactive tables.';\n",
              "          element.innerHTML = '';\n",
              "          dataTable['output_type'] = 'display_data';\n",
              "          await google.colab.output.renderOutput(dataTable, element);\n",
              "          const docLink = document.createElement('div');\n",
              "          docLink.innerHTML = docLinkHtml;\n",
              "          element.appendChild(docLink);\n",
              "        }\n",
              "      </script>\n",
              "    </div>\n",
              "  </div>\n",
              "  "
            ]
          },
          "metadata": {},
          "execution_count": 341
        }
      ]
    },
    {
      "cell_type": "markdown",
      "source": [
        "###General Cleaning"
      ],
      "metadata": {
        "id": "tnc9xPwZJDH3"
      }
    },
    {
      "cell_type": "code",
      "source": [
        "data.info()"
      ],
      "metadata": {
        "colab": {
          "base_uri": "https://localhost:8080/"
        },
        "id": "JOMJDZ5LDAya",
        "outputId": "7f56f271-c1c9-4d92-8750-053b67ab9e81"
      },
      "execution_count": 342,
      "outputs": [
        {
          "output_type": "stream",
          "name": "stdout",
          "text": [
            "<class 'pandas.core.frame.DataFrame'>\n",
            "RangeIndex: 26814 entries, 0 to 26813\n",
            "Data columns (total 17 columns):\n",
            " #   Column                   Non-Null Count  Dtype  \n",
            "---  ------                   --------------  -----  \n",
            " 0   TYPE_OF_STOP             26814 non-null  object \n",
            " 1   CITATION_CONTROL_NUMBER  26814 non-null  object \n",
            " 2   ACTIVITY RESULTS         26814 non-null  object \n",
            " 3   OFFICER_GENDER           26814 non-null  object \n",
            " 4   OFFICER_RACE             26814 non-null  object \n",
            " 5   OFFICER_AGE_RANGE        26814 non-null  object \n",
            " 6   ACTIVITY_DATE            26814 non-null  object \n",
            " 7   ACTIVITY_TIME            26814 non-null  object \n",
            " 8   ACTIVITY_LOCATION        26814 non-null  object \n",
            " 9   ACTIVITY_DIVISION        26814 non-null  object \n",
            " 10  ACTIVITY_BEAT            26814 non-null  object \n",
            " 11  DRIVER_GENDER            26814 non-null  object \n",
            " 12  DRIVER_RACE              26660 non-null  object \n",
            " 13  DRIVER_AGE_RANGE         26814 non-null  object \n",
            " 14  NUMBER OF PASSENGERS     26814 non-null  int64  \n",
            " 15  WAS_VEHCILE_SEARCHED     26814 non-null  object \n",
            " 16  REASON_FOR_SEARCH        908 non-null    float64\n",
            "dtypes: float64(1), int64(1), object(15)\n",
            "memory usage: 3.5+ MB\n"
          ]
        }
      ]
    },
    {
      "cell_type": "code",
      "source": [
        "data.WAS_VEHCILE_SEARCHED.value_counts()"
      ],
      "metadata": {
        "colab": {
          "base_uri": "https://localhost:8080/"
        },
        "id": "G2zduOtnHb1e",
        "outputId": "3bc519f2-82aa-41c2-a59d-b4d5b0580cb4"
      },
      "execution_count": 343,
      "outputs": [
        {
          "output_type": "execute_result",
          "data": {
            "text/plain": [
              "NO     25641\n",
              "YES     1173\n",
              "Name: WAS_VEHCILE_SEARCHED, dtype: int64"
            ]
          },
          "metadata": {},
          "execution_count": 343
        }
      ]
    },
    {
      "cell_type": "code",
      "source": [
        "data.TYPE_OF_STOP.value_counts()"
      ],
      "metadata": {
        "colab": {
          "base_uri": "https://localhost:8080/"
        },
        "id": "MG-yIjUCHgpC",
        "outputId": "8ea1ff50-9043-4518-d0ef-4af91ba45581"
      },
      "execution_count": 344,
      "outputs": [
        {
          "output_type": "execute_result",
          "data": {
            "text/plain": [
              "TRAFFIC VIOLATION               26752\n",
              "COMPLAINT/CRIMINAL VIOLATION       54\n",
              "COMPLIANCE STOP (KVE ONLY)          8\n",
              "Name: TYPE_OF_STOP, dtype: int64"
            ]
          },
          "metadata": {},
          "execution_count": 344
        }
      ]
    },
    {
      "cell_type": "code",
      "source": [
        "data[\"ACTIVITY RESULTS\"].value_counts()"
      ],
      "metadata": {
        "colab": {
          "base_uri": "https://localhost:8080/"
        },
        "id": "x6YP1C6nJ8Ja",
        "outputId": "c0720b35-7188-4bea-d8e8-69eed7245d2d"
      },
      "execution_count": 345,
      "outputs": [
        {
          "output_type": "execute_result",
          "data": {
            "text/plain": [
              "CITATION ISSUED    26814\n",
              "Name: ACTIVITY RESULTS, dtype: int64"
            ]
          },
          "metadata": {},
          "execution_count": 345
        }
      ]
    },
    {
      "cell_type": "code",
      "source": [
        "data.ACTIVITY_DATE.value_counts()"
      ],
      "metadata": {
        "colab": {
          "base_uri": "https://localhost:8080/"
        },
        "id": "FMh9QzDOKwFQ",
        "outputId": "e2e90889-0bb3-4c3c-da8c-7f74adbb852b"
      },
      "execution_count": 346,
      "outputs": [
        {
          "output_type": "execute_result",
          "data": {
            "text/plain": [
              "03/23/2022    287\n",
              "09/28/2022    279\n",
              "03/17/2022    275\n",
              "01/18/2022    252\n",
              "09/14/2022    247\n",
              "             ... \n",
              "05/14/2022     10\n",
              "10/30/2022      8\n",
              "01/08/2022      7\n",
              "01/01/2022      6\n",
              "12/10/2022      1\n",
              "Name: ACTIVITY_DATE, Length: 344, dtype: int64"
            ]
          },
          "metadata": {},
          "execution_count": 346
        }
      ]
    },
    {
      "cell_type": "code",
      "source": [
        "data.ACTIVITY_TIME.value_counts()"
      ],
      "metadata": {
        "colab": {
          "base_uri": "https://localhost:8080/"
        },
        "id": "fRAeYB__PVP5",
        "outputId": "efcfae13-4bad-49eb-8ca6-6f02fa5865ae"
      },
      "execution_count": 347,
      "outputs": [
        {
          "output_type": "execute_result",
          "data": {
            "text/plain": [
              "14:09    57\n",
              "14:00    54\n",
              "10:18    52\n",
              "10:32    51\n",
              "14:20    50\n",
              "         ..\n",
              "06:30     1\n",
              "03:12     1\n",
              "07:01     1\n",
              "05:05     1\n",
              "06:58     1\n",
              "Name: ACTIVITY_TIME, Length: 1437, dtype: int64"
            ]
          },
          "metadata": {},
          "execution_count": 347
        }
      ]
    },
    {
      "cell_type": "markdown",
      "source": [
        "#Dropping irrelevent Columns"
      ],
      "metadata": {
        "id": "ltw8lSWOKsAp"
      }
    },
    {
      "cell_type": "code",
      "source": [
        "#dropping due to small ammount of variation of stops (most are Traffic Violation)\n",
        "#'CITATION_CONTROL_NUMBER' due to all having diff numbers\n",
        "#\"ACTIVITY RESULTS\" due to all having the same result (Citation issued)\n",
        "#'ACTIVITY_TIME'&'ACTIVITY_LOCATION' too many variations\n",
        "#'REASON_FOR_SEARCH' Too many NA's\n",
        "data = data.drop(['TYPE_OF_STOP','CITATION_CONTROL_NUMBER','ACTIVITY RESULTS','ACTIVITY_DATE','ACTIVITY_TIME','ACTIVITY_LOCATION','REASON_FOR_SEARCH'], axis = 1)"
      ],
      "metadata": {
        "id": "xH6kW_VbHp6z"
      },
      "execution_count": 348,
      "outputs": []
    },
    {
      "cell_type": "code",
      "source": [
        "data.info()"
      ],
      "metadata": {
        "colab": {
          "base_uri": "https://localhost:8080/"
        },
        "id": "u4rnVfwRMI0z",
        "outputId": "6d29b5ac-8cd0-46a6-f4ff-d14eec1fd9ed"
      },
      "execution_count": 349,
      "outputs": [
        {
          "output_type": "stream",
          "name": "stdout",
          "text": [
            "<class 'pandas.core.frame.DataFrame'>\n",
            "RangeIndex: 26814 entries, 0 to 26813\n",
            "Data columns (total 10 columns):\n",
            " #   Column                Non-Null Count  Dtype \n",
            "---  ------                --------------  ----- \n",
            " 0   OFFICER_GENDER        26814 non-null  object\n",
            " 1   OFFICER_RACE          26814 non-null  object\n",
            " 2   OFFICER_AGE_RANGE     26814 non-null  object\n",
            " 3   ACTIVITY_DIVISION     26814 non-null  object\n",
            " 4   ACTIVITY_BEAT         26814 non-null  object\n",
            " 5   DRIVER_GENDER         26814 non-null  object\n",
            " 6   DRIVER_RACE           26660 non-null  object\n",
            " 7   DRIVER_AGE_RANGE      26814 non-null  object\n",
            " 8   NUMBER OF PASSENGERS  26814 non-null  int64 \n",
            " 9   WAS_VEHCILE_SEARCHED  26814 non-null  object\n",
            "dtypes: int64(1), object(9)\n",
            "memory usage: 2.0+ MB\n"
          ]
        }
      ]
    },
    {
      "cell_type": "markdown",
      "source": [
        "###Converting columns to dummy var"
      ],
      "metadata": {
        "id": "vejtI2_3LA53"
      }
    },
    {
      "cell_type": "code",
      "source": [
        "data.OFFICER_GENDER.value_counts()"
      ],
      "metadata": {
        "colab": {
          "base_uri": "https://localhost:8080/"
        },
        "id": "JFV1LUPKMjVH",
        "outputId": "ca7b244e-5eef-418c-8daa-ab2308423bcc"
      },
      "execution_count": 350,
      "outputs": [
        {
          "output_type": "execute_result",
          "data": {
            "text/plain": [
              "M    26485\n",
              "F      329\n",
              "Name: OFFICER_GENDER, dtype: int64"
            ]
          },
          "metadata": {},
          "execution_count": 350
        }
      ]
    },
    {
      "cell_type": "code",
      "source": [
        "data.OFFICER_RACE.value_counts()"
      ],
      "metadata": {
        "colab": {
          "base_uri": "https://localhost:8080/"
        },
        "id": "c1bgj18OOrdm",
        "outputId": "9f22e1c1-6d55-4c22-9d76-a68dd2090bf5"
      },
      "execution_count": 351,
      "outputs": [
        {
          "output_type": "execute_result",
          "data": {
            "text/plain": [
              "WHITE       19872\n",
              "BLACK        6472\n",
              "HISPANIC      399\n",
              "ASIAN          67\n",
              "UNKNOWN         4\n",
              "Name: OFFICER_RACE, dtype: int64"
            ]
          },
          "metadata": {},
          "execution_count": 351
        }
      ]
    },
    {
      "cell_type": "code",
      "source": [
        "data.OFFICER_AGE_RANGE.value_counts()"
      ],
      "metadata": {
        "colab": {
          "base_uri": "https://localhost:8080/"
        },
        "id": "zqMXudN7OzVl",
        "outputId": "d0ac3b06-1607-4d9a-9126-a230458fc757"
      },
      "execution_count": 352,
      "outputs": [
        {
          "output_type": "execute_result",
          "data": {
            "text/plain": [
              "51 - 60    7874\n",
              "41 - 50    7854\n",
              "31 - 40    5709\n",
              "21 - 30    4524\n",
              "OVER 60     625\n",
              "61 - 70     228\n",
              "Name: OFFICER_AGE_RANGE, dtype: int64"
            ]
          },
          "metadata": {},
          "execution_count": 352
        }
      ]
    },
    {
      "cell_type": "code",
      "source": [
        "data.ACTIVITY_DIVISION.value_counts()"
      ],
      "metadata": {
        "colab": {
          "base_uri": "https://localhost:8080/"
        },
        "id": "OJeJQkJnPGXU",
        "outputId": "ab49ae45-36c9-4b2f-ebe4-28802197943c"
      },
      "execution_count": 353,
      "outputs": [
        {
          "output_type": "execute_result",
          "data": {
            "text/plain": [
              "8TH DIVISION    5445\n",
              "5TH DIVISION    4198\n",
              "7TH DIVISION    3966\n",
              "3RD DIVISION    3286\n",
              "6TH DIVISION    3172\n",
              "4TH DIVISION    2441\n",
              "1ST DIVISION    1615\n",
              "2ND DIVISION    1450\n",
              "                1240\n",
              "METRO              1\n",
              "Name: ACTIVITY_DIVISION, dtype: int64"
            ]
          },
          "metadata": {},
          "execution_count": 353
        }
      ]
    },
    {
      "cell_type": "code",
      "source": [
        "data.columns"
      ],
      "metadata": {
        "colab": {
          "base_uri": "https://localhost:8080/"
        },
        "id": "9malJT2-NLUY",
        "outputId": "63c26dd2-320b-49bc-ec7b-3c524b88ba79"
      },
      "execution_count": 354,
      "outputs": [
        {
          "output_type": "execute_result",
          "data": {
            "text/plain": [
              "Index(['OFFICER_GENDER', 'OFFICER_RACE', 'OFFICER_AGE_RANGE',\n",
              "       'ACTIVITY_DIVISION', 'ACTIVITY_BEAT', 'DRIVER_GENDER', 'DRIVER_RACE',\n",
              "       'DRIVER_AGE_RANGE', 'NUMBER OF PASSENGERS', 'WAS_VEHCILE_SEARCHED'],\n",
              "      dtype='object')"
            ]
          },
          "metadata": {},
          "execution_count": 354
        }
      ]
    },
    {
      "cell_type": "code",
      "source": [
        "data = pd.get_dummies(data[['OFFICER_GENDER', 'OFFICER_RACE', 'OFFICER_AGE_RANGE','ACTIVITY_DIVISION', 'ACTIVITY_BEAT',\n",
        "       'DRIVER_GENDER', 'DRIVER_RACE', 'DRIVER_AGE_RANGE','WAS_VEHCILE_SEARCHED']], drop_first = True)"
      ],
      "metadata": {
        "id": "5_M-BVSRJonl"
      },
      "execution_count": 355,
      "outputs": []
    },
    {
      "cell_type": "code",
      "source": [
        "#data.REASON_FOR_SEARCH.value_counts()"
      ],
      "metadata": {
        "id": "vvG1Lt0DMc1J"
      },
      "execution_count": 356,
      "outputs": []
    },
    {
      "cell_type": "code",
      "source": [
        "data.info()"
      ],
      "metadata": {
        "colab": {
          "base_uri": "https://localhost:8080/"
        },
        "id": "fw3klV5UOTTR",
        "outputId": "7c567707-e93f-4c2d-812c-2d3420400a35"
      },
      "execution_count": 357,
      "outputs": [
        {
          "output_type": "stream",
          "name": "stdout",
          "text": [
            "<class 'pandas.core.frame.DataFrame'>\n",
            "RangeIndex: 26814 entries, 0 to 26813\n",
            "Data columns (total 39 columns):\n",
            " #   Column                          Non-Null Count  Dtype\n",
            "---  ------                          --------------  -----\n",
            " 0   OFFICER_GENDER_M                26814 non-null  uint8\n",
            " 1   OFFICER_RACE_BLACK              26814 non-null  uint8\n",
            " 2   OFFICER_RACE_HISPANIC           26814 non-null  uint8\n",
            " 3   OFFICER_RACE_UNKNOWN            26814 non-null  uint8\n",
            " 4   OFFICER_RACE_WHITE              26814 non-null  uint8\n",
            " 5   OFFICER_AGE_RANGE_31 - 40       26814 non-null  uint8\n",
            " 6   OFFICER_AGE_RANGE_41 - 50       26814 non-null  uint8\n",
            " 7   OFFICER_AGE_RANGE_51 - 60       26814 non-null  uint8\n",
            " 8   OFFICER_AGE_RANGE_61 - 70       26814 non-null  uint8\n",
            " 9   OFFICER_AGE_RANGE_OVER 60       26814 non-null  uint8\n",
            " 10  ACTIVITY_DIVISION_1ST DIVISION  26814 non-null  uint8\n",
            " 11  ACTIVITY_DIVISION_2ND DIVISION  26814 non-null  uint8\n",
            " 12  ACTIVITY_DIVISION_3RD DIVISION  26814 non-null  uint8\n",
            " 13  ACTIVITY_DIVISION_4TH DIVISION  26814 non-null  uint8\n",
            " 14  ACTIVITY_DIVISION_5TH DIVISION  26814 non-null  uint8\n",
            " 15  ACTIVITY_DIVISION_6TH DIVISION  26814 non-null  uint8\n",
            " 16  ACTIVITY_DIVISION_7TH DIVISION  26814 non-null  uint8\n",
            " 17  ACTIVITY_DIVISION_8TH DIVISION  26814 non-null  uint8\n",
            " 18  ACTIVITY_DIVISION_METRO         26814 non-null  uint8\n",
            " 19  ACTIVITY_BEAT_BEAT 1            26814 non-null  uint8\n",
            " 20  ACTIVITY_BEAT_BEAT 2            26814 non-null  uint8\n",
            " 21  ACTIVITY_BEAT_BEAT 3            26814 non-null  uint8\n",
            " 22  ACTIVITY_BEAT_BEAT 4            26814 non-null  uint8\n",
            " 23  ACTIVITY_BEAT_BEAT 5            26814 non-null  uint8\n",
            " 24  ACTIVITY_BEAT_BEAT 6            26814 non-null  uint8\n",
            " 25  ACTIVITY_BEAT_METRO             26814 non-null  uint8\n",
            " 26  DRIVER_GENDER_M                 26814 non-null  uint8\n",
            " 27  DRIVER_RACE_ASIAN               26814 non-null  uint8\n",
            " 28  DRIVER_RACE_BLACK               26814 non-null  uint8\n",
            " 29  DRIVER_RACE_HISPANIC            26814 non-null  uint8\n",
            " 30  DRIVER_RACE_WHITE               26814 non-null  uint8\n",
            " 31  DRIVER_AGE_RANGE_20 - 25        26814 non-null  uint8\n",
            " 32  DRIVER_AGE_RANGE_26 - 30        26814 non-null  uint8\n",
            " 33  DRIVER_AGE_RANGE_31 - 40        26814 non-null  uint8\n",
            " 34  DRIVER_AGE_RANGE_41 - 50        26814 non-null  uint8\n",
            " 35  DRIVER_AGE_RANGE_51 - 60        26814 non-null  uint8\n",
            " 36  DRIVER_AGE_RANGE_OVER 60        26814 non-null  uint8\n",
            " 37  DRIVER_AGE_RANGE_UNDER 16       26814 non-null  uint8\n",
            " 38  WAS_VEHCILE_SEARCHED_YES        26814 non-null  uint8\n",
            "dtypes: uint8(39)\n",
            "memory usage: 1021.4 KB\n"
          ]
        }
      ]
    },
    {
      "cell_type": "markdown",
      "source": [
        "###Splitting Data (X & y)"
      ],
      "metadata": {
        "id": "Jct03alwI9Tl"
      }
    },
    {
      "cell_type": "code",
      "source": [
        "X = data.drop(\"WAS_VEHCILE_SEARCHED_YES\", axis = 1)"
      ],
      "metadata": {
        "id": "Wmss7MFoDvoF"
      },
      "execution_count": 358,
      "outputs": []
    },
    {
      "cell_type": "code",
      "source": [
        "y = data.WAS_VEHCILE_SEARCHED_YES"
      ],
      "metadata": {
        "id": "0qDBzfi1EtvI"
      },
      "execution_count": 359,
      "outputs": []
    },
    {
      "cell_type": "code",
      "source": [
        "X_train, X_test, y_train, y_test = train_test_split(X,y,test_size=0.2, random_state=0) "
      ],
      "metadata": {
        "id": "IETk4DWwExQt"
      },
      "execution_count": 360,
      "outputs": []
    },
    {
      "cell_type": "markdown",
      "source": [
        "##Model Training"
      ],
      "metadata": {
        "id": "wynuVPzyF6pF"
      }
    },
    {
      "cell_type": "markdown",
      "source": [
        "###Model #1: Logistic Regression"
      ],
      "metadata": {
        "id": "l9fsbWygGElG"
      }
    },
    {
      "cell_type": "code",
      "source": [
        "from sklearn.linear_model import LogisticRegression\n",
        "logistic_regressor=LogisticRegression(random_state = 0)"
      ],
      "metadata": {
        "id": "Pb1v4QxQFfnb"
      },
      "execution_count": 361,
      "outputs": []
    },
    {
      "cell_type": "code",
      "source": [
        "logistic_regressor.fit(X_train,y_train)"
      ],
      "metadata": {
        "colab": {
          "base_uri": "https://localhost:8080/"
        },
        "id": "DuLH0ofjG6kj",
        "outputId": "b68e7d07-2187-41ee-954f-5442701a3bff"
      },
      "execution_count": 362,
      "outputs": [
        {
          "output_type": "execute_result",
          "data": {
            "text/plain": [
              "LogisticRegression(random_state=0)"
            ]
          },
          "metadata": {},
          "execution_count": 362
        }
      ]
    },
    {
      "cell_type": "code",
      "source": [
        "lr_trainS = logistic_regressor.score(X_train,y_train)\n",
        "print(lr_trainS)"
      ],
      "metadata": {
        "colab": {
          "base_uri": "https://localhost:8080/"
        },
        "id": "QvFopcuCHDgX",
        "outputId": "c185cc90-c56d-45a5-951c-1fbe128d2df0"
      },
      "execution_count": 363,
      "outputs": [
        {
          "output_type": "stream",
          "name": "stdout",
          "text": [
            "0.956272434851522\n"
          ]
        }
      ]
    },
    {
      "cell_type": "code",
      "source": [
        "lr_testS = logistic_regressor.score(X_test,y_test)\n",
        "print(lr_testS)"
      ],
      "metadata": {
        "colab": {
          "base_uri": "https://localhost:8080/"
        },
        "id": "Ak1GksTISruy",
        "outputId": "7634abe4-728a-47a7-9170-ed66e9a960ec"
      },
      "execution_count": 364,
      "outputs": [
        {
          "output_type": "stream",
          "name": "stdout",
          "text": [
            "0.9561812418422525\n"
          ]
        }
      ]
    },
    {
      "cell_type": "markdown",
      "source": [
        "####Model Validation"
      ],
      "metadata": {
        "id": "hhlPzY3-S4C_"
      }
    },
    {
      "cell_type": "code",
      "source": [
        "y_pred = logistic_regressor.predict(X_test)"
      ],
      "metadata": {
        "id": "KjIrRzy_SvwU"
      },
      "execution_count": 365,
      "outputs": []
    },
    {
      "cell_type": "code",
      "source": [
        "from sklearn.metrics import confusion_matrix,  ConfusionMatrixDisplay, classification_report"
      ],
      "metadata": {
        "id": "KTuqduOLSz3D"
      },
      "execution_count": 366,
      "outputs": []
    },
    {
      "cell_type": "code",
      "source": [
        "cm = confusion_matrix(y_test,y_pred)\n",
        "print(cm)"
      ],
      "metadata": {
        "colab": {
          "base_uri": "https://localhost:8080/"
        },
        "id": "dSZ1IgofS5-7",
        "outputId": "65c4cc5b-e316-4d68-a0c0-dd622c3da036"
      },
      "execution_count": 367,
      "outputs": [
        {
          "output_type": "stream",
          "name": "stdout",
          "text": [
            "[[5127    0]\n",
            " [ 235    1]]\n"
          ]
        }
      ]
    },
    {
      "cell_type": "code",
      "source": [
        "disp_cm = ConfusionMatrixDisplay(confusion_matrix = cm, display_labels = logistic_regressor.classes_)\n",
        "disp_cm.plot()\n",
        "plt.show()"
      ],
      "metadata": {
        "colab": {
          "base_uri": "https://localhost:8080/",
          "height": 279
        },
        "id": "GKEQ2m2pS9jB",
        "outputId": "8b610a30-252e-40ac-bba5-01058809cba5"
      },
      "execution_count": 368,
      "outputs": [
        {
          "output_type": "display_data",
          "data": {
            "text/plain": [
              "<Figure size 432x288 with 2 Axes>"
            ],
            "image/png": "[encoded data removed]"
          },
          "metadata": {
            "needs_background": "light"
          }
        }
      ]
    },
    {
      "cell_type": "code",
      "source": [
        "print(classification_report(y_test,y_pred))"
      ],
      "metadata": {
        "colab": {
          "base_uri": "https://localhost:8080/"
        },
        "id": "pZqM0Rsonikd",
        "outputId": "8216a132-b2b7-4bc0-c455-93e7e5da6340"
      },
      "execution_count": 369,
      "outputs": [
        {
          "output_type": "stream",
          "name": "stdout",
          "text": [
            "              precision    recall  f1-score   support\n",
            "\n",
            "           0       0.96      1.00      0.98      5127\n",
            "           1       1.00      0.00      0.01       236\n",
            "\n",
            "    accuracy                           0.96      5363\n",
            "   macro avg       0.98      0.50      0.49      5363\n",
            "weighted avg       0.96      0.96      0.93      5363\n",
            "\n"
          ]
        }
      ]
    },
    {
      "cell_type": "markdown",
      "source": [
        "###Model #2: Decision Tree Classification"
      ],
      "metadata": {
        "id": "FnisftyZThfY"
      }
    },
    {
      "cell_type": "code",
      "source": [
        "from sklearn.tree import DecisionTreeClassifier\n",
        "DT = DecisionTreeClassifier(criterion = 'gini',\n",
        "                                  max_depth = 5,\n",
        "                                  random_state = 0)\n",
        "DT.fit(X_train, y_train)"
      ],
      "metadata": {
        "colab": {
          "base_uri": "https://localhost:8080/"
        },
        "id": "nR_JcgDHTBDm",
        "outputId": "3487480f-cdf7-4489-efae-c730c3731f90"
      },
      "execution_count": 370,
      "outputs": [
        {
          "output_type": "execute_result",
          "data": {
            "text/plain": [
              "DecisionTreeClassifier(max_depth=5, random_state=0)"
            ]
          },
          "metadata": {},
          "execution_count": 370
        }
      ]
    },
    {
      "cell_type": "code",
      "source": [
        "DT_TrainS = DT.score(X_train,y_train)\n",
        "print(DT_TrainS)"
      ],
      "metadata": {
        "colab": {
          "base_uri": "https://localhost:8080/"
        },
        "id": "tajIjpdzWRpt",
        "outputId": "73777821-175d-4c52-bbe5-a7cfbe868bed"
      },
      "execution_count": 371,
      "outputs": [
        {
          "output_type": "stream",
          "name": "stdout",
          "text": [
            "0.9574844995571302\n"
          ]
        }
      ]
    },
    {
      "cell_type": "code",
      "source": [
        "DT_TestS = DT.score(X_test,y_test)\n",
        "print(DT_TestS)"
      ],
      "metadata": {
        "colab": {
          "base_uri": "https://localhost:8080/"
        },
        "id": "slpwDqDZWT_l",
        "outputId": "04bdf02c-f7d0-48e4-8a5c-221f1ca4d8a4"
      },
      "execution_count": 372,
      "outputs": [
        {
          "output_type": "stream",
          "name": "stdout",
          "text": [
            "0.9573000186462801\n"
          ]
        }
      ]
    },
    {
      "cell_type": "code",
      "source": [],
      "metadata": {
        "id": "I03EANS8nbUh"
      },
      "execution_count": 372,
      "outputs": []
    },
    {
      "cell_type": "code",
      "source": [
        "plt.figure(figsize = (12,8))\n",
        "from sklearn import tree\n",
        "tree.plot_tree(DT.fit(X_train,y_train))"
      ],
      "metadata": {
        "colab": {
          "base_uri": "https://localhost:8080/",
          "height": 1000
        },
        "id": "lZeww7Kbz3pB",
        "outputId": "bf5af6ec-2fec-4bdd-cb5d-5b7abcd64d6a"
      },
      "execution_count": 373,
      "outputs": [
        {
          "output_type": "execute_result",
          "data": {
            "text/plain": [
              "[Text(0.5446428571428571, 0.9166666666666666, 'X[11] <= 0.5\\ngini = 0.084\\nsamples = 21451\\nvalue = [20514, 937]'),\n",
              " Text(0.2857142857142857, 0.75, 'X[10] <= 0.5\\ngini = 0.07\\nsamples = 20288\\nvalue = [19551, 737]'),\n",
              " Text(0.14285714285714285, 0.5833333333333334, 'X[13] <= 0.5\\ngini = 0.059\\nsamples = 19035\\nvalue = [18454, 581]'),\n",
              " Text(0.07142857142857142, 0.4166666666666667, 'X[5] <= 0.5\\ngini = 0.044\\nsamples = 17055\\nvalue = [16670, 385]'),\n",
              " Text(0.03571428571428571, 0.25, 'X[7] <= 0.5\\ngini = 0.027\\nsamples = 13823\\nvalue = [13637, 186]'),\n",
              " Text(0.017857142857142856, 0.08333333333333333, 'gini = 0.045\\nsamples = 7791\\nvalue = [7610, 181]'),\n",
              " Text(0.05357142857142857, 0.08333333333333333, 'gini = 0.002\\nsamples = 6032\\nvalue = [6027, 5]'),\n",
              " Text(0.10714285714285714, 0.25, 'X[12] <= 0.5\\ngini = 0.116\\nsamples = 3232\\nvalue = [3033, 199]'),\n",
              " Text(0.08928571428571429, 0.08333333333333333, 'gini = 0.079\\nsamples = 2345\\nvalue = [2248, 97]'),\n",
              " Text(0.125, 0.08333333333333333, 'gini = 0.204\\nsamples = 887\\nvalue = [785, 102]'),\n",
              " Text(0.21428571428571427, 0.4166666666666667, 'X[23] <= 0.5\\ngini = 0.178\\nsamples = 1980\\nvalue = [1784, 196]'),\n",
              " Text(0.17857142857142858, 0.25, 'X[26] <= 0.5\\ngini = 0.159\\nsamples = 1876\\nvalue = [1713, 163]'),\n",
              " Text(0.16071428571428573, 0.08333333333333333, 'gini = 0.071\\nsamples = 649\\nvalue = [625, 24]'),\n",
              " Text(0.19642857142857142, 0.08333333333333333, 'gini = 0.201\\nsamples = 1227\\nvalue = [1088, 139]'),\n",
              " Text(0.25, 0.25, 'X[7] <= 0.5\\ngini = 0.433\\nsamples = 104\\nvalue = [71, 33]'),\n",
              " Text(0.23214285714285715, 0.08333333333333333, 'gini = 0.388\\nsamples = 95\\nvalue = [70, 25]'),\n",
              " Text(0.26785714285714285, 0.08333333333333333, 'gini = 0.198\\nsamples = 9\\nvalue = [1, 8]'),\n",
              " Text(0.42857142857142855, 0.5833333333333334, 'X[22] <= 0.5\\ngini = 0.218\\nsamples = 1253\\nvalue = [1097, 156]'),\n",
              " Text(0.35714285714285715, 0.4166666666666667, 'X[26] <= 0.5\\ngini = 0.249\\nsamples = 953\\nvalue = [814, 139]'),\n",
              " Text(0.32142857142857145, 0.25, 'X[31] <= 0.5\\ngini = 0.164\\nsamples = 333\\nvalue = [303, 30]'),\n",
              " Text(0.30357142857142855, 0.08333333333333333, 'gini = 0.137\\nsamples = 271\\nvalue = [251, 20]'),\n",
              " Text(0.3392857142857143, 0.08333333333333333, 'gini = 0.271\\nsamples = 62\\nvalue = [52, 10]'),\n",
              " Text(0.39285714285714285, 0.25, 'X[1] <= 0.5\\ngini = 0.29\\nsamples = 620\\nvalue = [511, 109]'),\n",
              " Text(0.375, 0.08333333333333333, 'gini = 0.26\\nsamples = 528\\nvalue = [447, 81]'),\n",
              " Text(0.4107142857142857, 0.08333333333333333, 'gini = 0.423\\nsamples = 92\\nvalue = [64, 28]'),\n",
              " Text(0.5, 0.4166666666666667, 'X[1] <= 0.5\\ngini = 0.107\\nsamples = 300\\nvalue = [283, 17]'),\n",
              " Text(0.4642857142857143, 0.25, 'X[32] <= 0.5\\ngini = 0.053\\nsamples = 220\\nvalue = [214, 6]'),\n",
              " Text(0.44642857142857145, 0.08333333333333333, 'gini = 0.011\\nsamples = 175\\nvalue = [174, 1]'),\n",
              " Text(0.48214285714285715, 0.08333333333333333, 'gini = 0.198\\nsamples = 45\\nvalue = [40, 5]'),\n",
              " Text(0.5357142857142857, 0.25, 'X[5] <= 0.5\\ngini = 0.237\\nsamples = 80\\nvalue = [69, 11]'),\n",
              " Text(0.5178571428571429, 0.08333333333333333, 'gini = 0.094\\nsamples = 61\\nvalue = [58, 3]'),\n",
              " Text(0.5535714285714286, 0.08333333333333333, 'gini = 0.488\\nsamples = 19\\nvalue = [11, 8]'),\n",
              " Text(0.8035714285714286, 0.75, 'X[24] <= 0.5\\ngini = 0.285\\nsamples = 1163\\nvalue = [963, 200]'),\n",
              " Text(0.7053571428571429, 0.5833333333333334, 'X[6] <= 0.5\\ngini = 0.374\\nsamples = 682\\nvalue = [512, 170]'),\n",
              " Text(0.6428571428571429, 0.4166666666666667, 'X[5] <= 0.5\\ngini = 0.445\\nsamples = 481\\nvalue = [320, 161]'),\n",
              " Text(0.6071428571428571, 0.25, 'X[19] <= 0.5\\ngini = 0.49\\nsamples = 260\\nvalue = [148, 112]'),\n",
              " Text(0.5892857142857143, 0.08333333333333333, 'gini = 0.464\\nsamples = 202\\nvalue = [128, 74]'),\n",
              " Text(0.625, 0.08333333333333333, 'gini = 0.452\\nsamples = 58\\nvalue = [20, 38]'),\n",
              " Text(0.6785714285714286, 0.25, 'X[26] <= 0.5\\ngini = 0.345\\nsamples = 221\\nvalue = [172, 49]'),\n",
              " Text(0.6607142857142857, 0.08333333333333333, 'gini = 0.198\\nsamples = 72\\nvalue = [64, 8]'),\n",
              " Text(0.6964285714285714, 0.08333333333333333, 'gini = 0.399\\nsamples = 149\\nvalue = [108, 41]'),\n",
              " Text(0.7678571428571429, 0.4166666666666667, 'X[20] <= 0.5\\ngini = 0.086\\nsamples = 201\\nvalue = [192, 9]'),\n",
              " Text(0.75, 0.25, 'X[23] <= 0.5\\ngini = 0.122\\nsamples = 138\\nvalue = [129, 9]'),\n",
              " Text(0.7321428571428571, 0.08333333333333333, 'gini = 0.143\\nsamples = 116\\nvalue = [107, 9]'),\n",
              " Text(0.7678571428571429, 0.08333333333333333, 'gini = 0.0\\nsamples = 22\\nvalue = [22, 0]'),\n",
              " Text(0.7857142857142857, 0.25, 'gini = 0.0\\nsamples = 63\\nvalue = [63, 0]'),\n",
              " Text(0.9017857142857143, 0.5833333333333334, 'X[6] <= 0.5\\ngini = 0.117\\nsamples = 481\\nvalue = [451, 30]'),\n",
              " Text(0.8571428571428571, 0.4166666666666667, 'X[4] <= 0.5\\ngini = 0.146\\nsamples = 365\\nvalue = [336, 29]'),\n",
              " Text(0.8214285714285714, 0.25, 'X[28] <= 0.5\\ngini = 0.092\\nsamples = 288\\nvalue = [274, 14]'),\n",
              " Text(0.8035714285714286, 0.08333333333333333, 'gini = 0.033\\nsamples = 119\\nvalue = [117, 2]'),\n",
              " Text(0.8392857142857143, 0.08333333333333333, 'gini = 0.132\\nsamples = 169\\nvalue = [157, 12]'),\n",
              " Text(0.8928571428571429, 0.25, 'X[7] <= 0.5\\ngini = 0.314\\nsamples = 77\\nvalue = [62, 15]'),\n",
              " Text(0.875, 0.08333333333333333, 'gini = 0.425\\nsamples = 49\\nvalue = [34, 15]'),\n",
              " Text(0.9107142857142857, 0.08333333333333333, 'gini = 0.0\\nsamples = 28\\nvalue = [28, 0]'),\n",
              " Text(0.9464285714285714, 0.4166666666666667, 'X[34] <= 0.5\\ngini = 0.017\\nsamples = 116\\nvalue = [115, 1]'),\n",
              " Text(0.9285714285714286, 0.25, 'gini = 0.0\\nsamples = 96\\nvalue = [96, 0]'),\n",
              " Text(0.9642857142857143, 0.25, 'X[26] <= 0.5\\ngini = 0.095\\nsamples = 20\\nvalue = [19, 1]'),\n",
              " Text(0.9464285714285714, 0.08333333333333333, 'gini = 0.0\\nsamples = 11\\nvalue = [11, 0]'),\n",
              " Text(0.9821428571428571, 0.08333333333333333, 'gini = 0.198\\nsamples = 9\\nvalue = [8, 1]')]"
            ]
          },
          "metadata": {},
          "execution_count": 373
        },
        {
          "output_type": "display_data",
          "data": {
            "text/plain": [
              "<Figure size 864x576 with 1 Axes>"
            ],
            "image/png": "[encoded data removed]"
          },
          "metadata": {
            "needs_background": "light"
          }
        }
      ]
    },
    {
      "cell_type": "markdown",
      "source": [
        "####Validation"
      ],
      "metadata": {
        "id": "jQIkA_reYEWZ"
      }
    },
    {
      "cell_type": "code",
      "source": [
        "y_pred = DT.predict(X_test)"
      ],
      "metadata": {
        "id": "NDyF0WiGYUrg"
      },
      "execution_count": 374,
      "outputs": []
    },
    {
      "cell_type": "code",
      "source": [
        "cm = confusion_matrix(y_test,y_pred)\n",
        "print(cm)"
      ],
      "metadata": {
        "colab": {
          "base_uri": "https://localhost:8080/"
        },
        "id": "q6SYIJZQWa59",
        "outputId": "a00b0c25-5284-49cf-9c59-84f956b7c5ef"
      },
      "execution_count": 375,
      "outputs": [
        {
          "output_type": "stream",
          "name": "stdout",
          "text": [
            "[[5121    6]\n",
            " [ 223   13]]\n"
          ]
        }
      ]
    },
    {
      "cell_type": "code",
      "source": [
        "disp_cm = ConfusionMatrixDisplay(confusion_matrix = cm, display_labels = logistic_regressor.classes_)\n",
        "disp_cm.plot()\n",
        "plt.show()"
      ],
      "metadata": {
        "colab": {
          "base_uri": "https://localhost:8080/",
          "height": 279
        },
        "id": "BlV3sFYIYUCi",
        "outputId": "72f82004-b45f-4d0f-b2b3-5507ab9e29d1"
      },
      "execution_count": 376,
      "outputs": [
        {
          "output_type": "display_data",
          "data": {
            "text/plain": [
              "<Figure size 432x288 with 2 Axes>"
            ],
            "image/png": "[encoded data removed]"
          },
          "metadata": {
            "needs_background": "light"
          }
        }
      ]
    },
    {
      "cell_type": "code",
      "source": [
        "print(classification_report(y_test,y_pred))"
      ],
      "metadata": {
        "colab": {
          "base_uri": "https://localhost:8080/"
        },
        "id": "tfBQkdBq2UdG",
        "outputId": "ded9a59a-1546-41cc-a914-0e83dc450453"
      },
      "execution_count": 377,
      "outputs": [
        {
          "output_type": "stream",
          "name": "stdout",
          "text": [
            "              precision    recall  f1-score   support\n",
            "\n",
            "           0       0.96      1.00      0.98      5127\n",
            "           1       0.68      0.06      0.10       236\n",
            "\n",
            "    accuracy                           0.96      5363\n",
            "   macro avg       0.82      0.53      0.54      5363\n",
            "weighted avg       0.95      0.96      0.94      5363\n",
            "\n"
          ]
        }
      ]
    },
    {
      "cell_type": "markdown",
      "source": [
        "###Model #3: Random Forest Classifier"
      ],
      "metadata": {
        "id": "LxCM0dOAYzF3"
      }
    },
    {
      "cell_type": "code",
      "source": [
        "from sklearn.ensemble import RandomForestClassifier\n",
        "RFC = RandomForestClassifier(n_estimators = 500)"
      ],
      "metadata": {
        "id": "RVy4Zu3eYyl9"
      },
      "execution_count": 378,
      "outputs": []
    },
    {
      "cell_type": "code",
      "source": [
        "RFC.fit(X_train,y_train)\n",
        "RFC_TrainS = RFC.score(X_train,y_train)\n",
        "print(RFC_TrainS)"
      ],
      "metadata": {
        "colab": {
          "base_uri": "https://localhost:8080/"
        },
        "id": "7hq_DynhZZGT",
        "outputId": "6b0f0991-f691-4348-cbd2-50984cb606c6"
      },
      "execution_count": 379,
      "outputs": [
        {
          "output_type": "stream",
          "name": "stdout",
          "text": [
            "0.9726819262505244\n"
          ]
        }
      ]
    },
    {
      "cell_type": "code",
      "source": [
        "RFC_TestS = RFC.score(X_test,y_test)\n",
        "print(RFC_TestS)"
      ],
      "metadata": {
        "colab": {
          "base_uri": "https://localhost:8080/"
        },
        "id": "bMfFyDMqZagS",
        "outputId": "3f4a1f98-81de-46c7-93aa-66bb00c19e91"
      },
      "execution_count": 380,
      "outputs": [
        {
          "output_type": "stream",
          "name": "stdout",
          "text": [
            "0.953757225433526\n"
          ]
        }
      ]
    },
    {
      "cell_type": "markdown",
      "source": [
        "####Validation"
      ],
      "metadata": {
        "id": "vjc80tJ3Z4Nv"
      }
    },
    {
      "cell_type": "code",
      "source": [
        "y_pred = RFC.predict(X_test)"
      ],
      "metadata": {
        "id": "BRlf-WvVZ3xE"
      },
      "execution_count": 381,
      "outputs": []
    },
    {
      "cell_type": "code",
      "source": [
        "cm = confusion_matrix(y_test,y_pred)\n",
        "print(cm)"
      ],
      "metadata": {
        "colab": {
          "base_uri": "https://localhost:8080/"
        },
        "id": "phdTENNRahls",
        "outputId": "bf778f55-587a-499c-eb5b-95e2a85d3fff"
      },
      "execution_count": 382,
      "outputs": [
        {
          "output_type": "stream",
          "name": "stdout",
          "text": [
            "[[5067   60]\n",
            " [ 188   48]]\n"
          ]
        }
      ]
    },
    {
      "cell_type": "code",
      "source": [
        "disp_cm = ConfusionMatrixDisplay(confusion_matrix = cm, display_labels = logistic_regressor.classes_)\n",
        "disp_cm.plot()\n",
        "plt.show()"
      ],
      "metadata": {
        "colab": {
          "base_uri": "https://localhost:8080/",
          "height": 280
        },
        "id": "ybO90Q3KahiU",
        "outputId": "e8f6fa3b-79e7-4fcf-9648-0425475bd88f"
      },
      "execution_count": 383,
      "outputs": [
        {
          "output_type": "display_data",
          "data": {
            "text/plain": [
              "<Figure size 432x288 with 2 Axes>"
            ],
            "image/png": "[encoded data removed]"
          },
          "metadata": {
            "needs_background": "light"
          }
        }
      ]
    },
    {
      "cell_type": "code",
      "source": [
        "print(classification_report(y_test,y_pred))"
      ],
      "metadata": {
        "colab": {
          "base_uri": "https://localhost:8080/"
        },
        "id": "4q7LnGVCnX6Y",
        "outputId": "3d5f44ac-ea4f-48c1-e24d-85d9e141263c"
      },
      "execution_count": 384,
      "outputs": [
        {
          "output_type": "stream",
          "name": "stdout",
          "text": [
            "              precision    recall  f1-score   support\n",
            "\n",
            "           0       0.96      0.99      0.98      5127\n",
            "           1       0.44      0.20      0.28       236\n",
            "\n",
            "    accuracy                           0.95      5363\n",
            "   macro avg       0.70      0.60      0.63      5363\n",
            "weighted avg       0.94      0.95      0.95      5363\n",
            "\n"
          ]
        }
      ]
    },
    {
      "cell_type": "markdown",
      "source": [
        "###Model #4: Support Vector Classifier"
      ],
      "metadata": {
        "id": "EDmztHi9Y5RF"
      }
    },
    {
      "cell_type": "code",
      "source": [
        "from sklearn.svm import SVC\n",
        "SVC_model = SVC()\n",
        "SVC_model.fit(X_train, y_train)"
      ],
      "metadata": {
        "colab": {
          "base_uri": "https://localhost:8080/"
        },
        "id": "TKVqk-v2YbOi",
        "outputId": "5b4f5116-0931-4462-f986-1ae8a82cf8ac"
      },
      "execution_count": 385,
      "outputs": [
        {
          "output_type": "execute_result",
          "data": {
            "text/plain": [
              "SVC()"
            ]
          },
          "metadata": {},
          "execution_count": 385
        }
      ]
    },
    {
      "cell_type": "code",
      "source": [
        "SVC_TrainS = SVC_model.score(X_train, y_train)\n",
        "print(SVC_TrainS)"
      ],
      "metadata": {
        "colab": {
          "base_uri": "https://localhost:8080/"
        },
        "id": "-vTUVMxabmmZ",
        "outputId": "519b309f-6a74-4dfa-d838-5f5b3bac926e"
      },
      "execution_count": 386,
      "outputs": [
        {
          "output_type": "stream",
          "name": "stdout",
          "text": [
            "0.9567852314577409\n"
          ]
        }
      ]
    },
    {
      "cell_type": "code",
      "source": [
        "SVC_TestS = SVC_model.score(X_test, y_test)\n",
        "print(SVC_TestS)"
      ],
      "metadata": {
        "colab": {
          "base_uri": "https://localhost:8080/"
        },
        "id": "lRHIDC4KcDRq",
        "outputId": "27186969-36ab-4c55-c293-159a0e1e464f"
      },
      "execution_count": 387,
      "outputs": [
        {
          "output_type": "stream",
          "name": "stdout",
          "text": [
            "0.9563677046429238\n"
          ]
        }
      ]
    },
    {
      "cell_type": "markdown",
      "source": [
        "####Validation"
      ],
      "metadata": {
        "id": "0zVsT0_PcwmK"
      }
    },
    {
      "cell_type": "code",
      "source": [
        "y_pred = SVC_model.predict(X_test)"
      ],
      "metadata": {
        "id": "Aw7WSjBCcx4R"
      },
      "execution_count": 388,
      "outputs": []
    },
    {
      "cell_type": "code",
      "source": [
        "cm = confusion_matrix(y_test,y_pred)\n",
        "print(cm)"
      ],
      "metadata": {
        "colab": {
          "base_uri": "https://localhost:8080/"
        },
        "id": "1nkJCF1Jc2B2",
        "outputId": "a0aa201f-090a-4269-f885-ab0858feb433"
      },
      "execution_count": 389,
      "outputs": [
        {
          "output_type": "stream",
          "name": "stdout",
          "text": [
            "[[5127    0]\n",
            " [ 234    2]]\n"
          ]
        }
      ]
    },
    {
      "cell_type": "code",
      "source": [
        "disp_cm = ConfusionMatrixDisplay(confusion_matrix = cm, display_labels = logistic_regressor.classes_)\n",
        "disp_cm.plot()\n",
        "plt.show()"
      ],
      "metadata": {
        "colab": {
          "base_uri": "https://localhost:8080/",
          "height": 279
        },
        "id": "V8gfTg3Sc11H",
        "outputId": "7cc46ea1-134d-47f3-9d13-b5303abb34e7"
      },
      "execution_count": 390,
      "outputs": [
        {
          "output_type": "display_data",
          "data": {
            "text/plain": [
              "<Figure size 432x288 with 2 Axes>"
            ],
            "image/png": "[encoded data removed]"
          },
          "metadata": {
            "needs_background": "light"
          }
        }
      ]
    },
    {
      "cell_type": "code",
      "source": [
        "print(classification_report(y_test,y_pred))"
      ],
      "metadata": {
        "colab": {
          "base_uri": "https://localhost:8080/"
        },
        "id": "TJ-swFqrnVMs",
        "outputId": "8b362e4a-5268-4b62-98c4-c90f32ff9608"
      },
      "execution_count": 391,
      "outputs": [
        {
          "output_type": "stream",
          "name": "stdout",
          "text": [
            "              precision    recall  f1-score   support\n",
            "\n",
            "           0       0.96      1.00      0.98      5127\n",
            "           1       1.00      0.01      0.02       236\n",
            "\n",
            "    accuracy                           0.96      5363\n",
            "   macro avg       0.98      0.50      0.50      5363\n",
            "weighted avg       0.96      0.96      0.94      5363\n",
            "\n"
          ]
        }
      ]
    },
    {
      "cell_type": "markdown",
      "source": [
        "###Model #5: Artifical Neural Network/ MLP"
      ],
      "metadata": {
        "id": "QeQ5IjKZY9Gd"
      }
    },
    {
      "cell_type": "code",
      "source": [
        "#get number of columns in training data\n",
        "n_cols = X_train.shape[1]\n",
        "\n",
        "# builds model\n",
        "model = Sequential()\n",
        "\n",
        "model.add(Dense(150, activation='relu', \n",
        "                       input_shape=(n_cols,)))\n",
        "model.add(Dense(150, activation='relu'))\n",
        "model.add(Dense(150, activation='relu'))\n",
        "model.add(Dense(150, activation='relu'))\n",
        "model.add(Dense(150, activation='relu'))\n",
        "model.add(Dense(1))\n",
        "\n",
        "#compile model\n",
        "model.compile(loss='mse', optimizer='adam', metrics=['mae']) # use metric as mean absolute error\n",
        "\n",
        "#inspect the model\n",
        "model.summary()"
      ],
      "metadata": {
        "colab": {
          "base_uri": "https://localhost:8080/"
        },
        "id": "NnRw7fNyZLy1",
        "outputId": "6d3d0b39-811b-471c-bc6d-a47ef26748a7"
      },
      "execution_count": 392,
      "outputs": [
        {
          "output_type": "stream",
          "name": "stdout",
          "text": [
            "Model: \"sequential_4\"\n",
            "_________________________________________________________________\n",
            " Layer (type)                Output Shape              Param #   \n",
            "=================================================================\n",
            " dense_24 (Dense)            (None, 150)               5850      \n",
            "                                                                 \n",
            " dense_25 (Dense)            (None, 150)               22650     \n",
            "                                                                 \n",
            " dense_26 (Dense)            (None, 150)               22650     \n",
            "                                                                 \n",
            " dense_27 (Dense)            (None, 150)               22650     \n",
            "                                                                 \n",
            " dense_28 (Dense)            (None, 150)               22650     \n",
            "                                                                 \n",
            " dense_29 (Dense)            (None, 1)                 151       \n",
            "                                                                 \n",
            "=================================================================\n",
            "Total params: 96,601\n",
            "Trainable params: 96,601\n",
            "Non-trainable params: 0\n",
            "_________________________________________________________________\n"
          ]
        }
      ]
    },
    {
      "cell_type": "code",
      "source": [
        "from keras.callbacks import EarlyStopping\n",
        "#train model and perform validation test\n",
        "\n",
        "early_stop = EarlyStopping(monitor='val_loss', patience=30) # stops training when it doesn't show improvemnet.\n",
        "\n",
        "history = model.fit(X_train, y_train, epochs=40, \n",
        "          validation_split=0.2, verbose=1, callbacks=[early_stop])"
      ],
      "metadata": {
        "colab": {
          "base_uri": "https://localhost:8080/"
        },
        "id": "AjOQU8MUeEe3",
        "outputId": "25337d75-bb60-42b6-bbfb-e34fa8983564"
      },
      "execution_count": 393,
      "outputs": [
        {
          "output_type": "stream",
          "name": "stdout",
          "text": [
            "Epoch 1/40\n",
            "537/537 [==============================] - 2s 4ms/step - loss: 0.0380 - mae: 0.0791 - val_loss: 0.0391 - val_mae: 0.0641\n",
            "Epoch 2/40\n",
            "537/537 [==============================] - 2s 3ms/step - loss: 0.0363 - mae: 0.0743 - val_loss: 0.0370 - val_mae: 0.0731\n",
            "Epoch 3/40\n",
            "537/537 [==============================] - 2s 3ms/step - loss: 0.0353 - mae: 0.0728 - val_loss: 0.0363 - val_mae: 0.0783\n",
            "Epoch 4/40\n",
            "537/537 [==============================] - 2s 3ms/step - loss: 0.0348 - mae: 0.0720 - val_loss: 0.0363 - val_mae: 0.0743\n",
            "Epoch 5/40\n",
            "537/537 [==============================] - 2s 3ms/step - loss: 0.0340 - mae: 0.0714 - val_loss: 0.0353 - val_mae: 0.0702\n",
            "Epoch 6/40\n",
            "537/537 [==============================] - 2s 3ms/step - loss: 0.0332 - mae: 0.0689 - val_loss: 0.0363 - val_mae: 0.0692\n",
            "Epoch 7/40\n",
            "537/537 [==============================] - 2s 3ms/step - loss: 0.0326 - mae: 0.0681 - val_loss: 0.0358 - val_mae: 0.0898\n",
            "Epoch 8/40\n",
            "537/537 [==============================] - 2s 3ms/step - loss: 0.0319 - mae: 0.0671 - val_loss: 0.0350 - val_mae: 0.0658\n",
            "Epoch 9/40\n",
            "537/537 [==============================] - 2s 3ms/step - loss: 0.0316 - mae: 0.0666 - val_loss: 0.0356 - val_mae: 0.0643\n",
            "Epoch 10/40\n",
            "537/537 [==============================] - 2s 3ms/step - loss: 0.0308 - mae: 0.0649 - val_loss: 0.0358 - val_mae: 0.0746\n",
            "Epoch 11/40\n",
            "537/537 [==============================] - 2s 3ms/step - loss: 0.0302 - mae: 0.0636 - val_loss: 0.0348 - val_mae: 0.0658\n",
            "Epoch 12/40\n",
            "537/537 [==============================] - 2s 3ms/step - loss: 0.0295 - mae: 0.0610 - val_loss: 0.0364 - val_mae: 0.0637\n",
            "Epoch 13/40\n",
            "537/537 [==============================] - 2s 3ms/step - loss: 0.0290 - mae: 0.0608 - val_loss: 0.0357 - val_mae: 0.0647\n",
            "Epoch 14/40\n",
            "537/537 [==============================] - 2s 3ms/step - loss: 0.0284 - mae: 0.0600 - val_loss: 0.0403 - val_mae: 0.0828\n",
            "Epoch 15/40\n",
            "537/537 [==============================] - 2s 3ms/step - loss: 0.0282 - mae: 0.0588 - val_loss: 0.0357 - val_mae: 0.0599\n",
            "Epoch 16/40\n",
            "537/537 [==============================] - 2s 3ms/step - loss: 0.0273 - mae: 0.0570 - val_loss: 0.0378 - val_mae: 0.0710\n",
            "Epoch 17/40\n",
            "537/537 [==============================] - 2s 3ms/step - loss: 0.0271 - mae: 0.0565 - val_loss: 0.0381 - val_mae: 0.0678\n",
            "Epoch 18/40\n",
            "537/537 [==============================] - 2s 3ms/step - loss: 0.0263 - mae: 0.0549 - val_loss: 0.0407 - val_mae: 0.0642\n",
            "Epoch 19/40\n",
            "537/537 [==============================] - 2s 3ms/step - loss: 0.0261 - mae: 0.0544 - val_loss: 0.0378 - val_mae: 0.0626\n",
            "Epoch 20/40\n",
            "537/537 [==============================] - 2s 3ms/step - loss: 0.0257 - mae: 0.0533 - val_loss: 0.0374 - val_mae: 0.0674\n",
            "Epoch 21/40\n",
            "537/537 [==============================] - 2s 3ms/step - loss: 0.0255 - mae: 0.0531 - val_loss: 0.0371 - val_mae: 0.0601\n",
            "Epoch 22/40\n",
            "537/537 [==============================] - 2s 3ms/step - loss: 0.0248 - mae: 0.0515 - val_loss: 0.0380 - val_mae: 0.0630\n",
            "Epoch 23/40\n",
            "537/537 [==============================] - 2s 3ms/step - loss: 0.0251 - mae: 0.0516 - val_loss: 0.0380 - val_mae: 0.0584\n",
            "Epoch 24/40\n",
            "537/537 [==============================] - 2s 3ms/step - loss: 0.0244 - mae: 0.0503 - val_loss: 0.0396 - val_mae: 0.0632\n",
            "Epoch 25/40\n",
            "537/537 [==============================] - 2s 3ms/step - loss: 0.0252 - mae: 0.0517 - val_loss: 0.0386 - val_mae: 0.0676\n",
            "Epoch 26/40\n",
            "537/537 [==============================] - 2s 3ms/step - loss: 0.0242 - mae: 0.0499 - val_loss: 0.0408 - val_mae: 0.0645\n",
            "Epoch 27/40\n",
            "537/537 [==============================] - 2s 3ms/step - loss: 0.0239 - mae: 0.0491 - val_loss: 0.0384 - val_mae: 0.0678\n",
            "Epoch 28/40\n",
            "537/537 [==============================] - 1s 3ms/step - loss: 0.0235 - mae: 0.0482 - val_loss: 0.0392 - val_mae: 0.0633\n",
            "Epoch 29/40\n",
            "537/537 [==============================] - 2s 3ms/step - loss: 0.0240 - mae: 0.0498 - val_loss: 0.0397 - val_mae: 0.0641\n",
            "Epoch 30/40\n",
            "537/537 [==============================] - 2s 3ms/step - loss: 0.0231 - mae: 0.0475 - val_loss: 0.0408 - val_mae: 0.0658\n",
            "Epoch 31/40\n",
            "537/537 [==============================] - 2s 3ms/step - loss: 0.0237 - mae: 0.0485 - val_loss: 0.0404 - val_mae: 0.0608\n",
            "Epoch 32/40\n",
            "537/537 [==============================] - 2s 3ms/step - loss: 0.0233 - mae: 0.0475 - val_loss: 0.0382 - val_mae: 0.0591\n",
            "Epoch 33/40\n",
            "537/537 [==============================] - 2s 3ms/step - loss: 0.0230 - mae: 0.0469 - val_loss: 0.0399 - val_mae: 0.0601\n",
            "Epoch 34/40\n",
            "537/537 [==============================] - 2s 3ms/step - loss: 0.0230 - mae: 0.0473 - val_loss: 0.0386 - val_mae: 0.0634\n",
            "Epoch 35/40\n",
            "537/537 [==============================] - 2s 3ms/step - loss: 0.0225 - mae: 0.0466 - val_loss: 0.0400 - val_mae: 0.0649\n",
            "Epoch 36/40\n",
            "537/537 [==============================] - 2s 3ms/step - loss: 0.0225 - mae: 0.0461 - val_loss: 0.0387 - val_mae: 0.0659\n",
            "Epoch 37/40\n",
            "537/537 [==============================] - 2s 3ms/step - loss: 0.0230 - mae: 0.0475 - val_loss: 0.0414 - val_mae: 0.0640\n",
            "Epoch 38/40\n",
            "537/537 [==============================] - 2s 3ms/step - loss: 0.0222 - mae: 0.0453 - val_loss: 0.0403 - val_mae: 0.0601\n",
            "Epoch 39/40\n",
            "537/537 [==============================] - 1s 3ms/step - loss: 0.0219 - mae: 0.0451 - val_loss: 0.0412 - val_mae: 0.0642\n",
            "Epoch 40/40\n",
            "537/537 [==============================] - 2s 3ms/step - loss: 0.0222 - mae: 0.0458 - val_loss: 0.0405 - val_mae: 0.0618\n"
          ]
        }
      ]
    },
    {
      "cell_type": "code",
      "source": [
        "# show the graph of model loss in trainig and validation \n",
        "\n",
        "plt.figure(figsize=(15,8))\n",
        "plt.xlabel('Epoch')\n",
        "plt.ylabel('Loss') #MSE\n",
        "plt.plot(history.epoch, history.history['loss'],\n",
        "           label='Train Loss')\n",
        "plt.plot(history.epoch, history.history['val_loss'],\n",
        "           label = 'Val loss')\n",
        "plt.title('Model loss')\n",
        "plt.legend()"
      ],
      "metadata": {
        "colab": {
          "base_uri": "https://localhost:8080/",
          "height": 387
        },
        "id": "pXZoZHHJeGo9",
        "outputId": "c1e0f17b-f07a-4919-b9d7-d617bac2fbdb"
      },
      "execution_count": 394,
      "outputs": [
        {
          "output_type": "execute_result",
          "data": {
            "text/plain": [
              "<matplotlib.legend.Legend at 0x7f069bd92b20>"
            ]
          },
          "metadata": {},
          "execution_count": 394
        },
        {
          "output_type": "display_data",
          "data": {
            "text/plain": [
              "<Figure size 1080x576 with 1 Axes>"
            ],
            "image/png": "[encoded data removed]"
          },
          "metadata": {
            "needs_background": "light"
          }
        }
      ]
    },
    {
      "cell_type": "code",
      "source": [
        "score = model.evaluate(X_test, y_test, verbose=1)\n",
        "print('loss value: ', score[0]) #MSE\n",
        "print('Mean absolute error: ', score[1])"
      ],
      "metadata": {
        "colab": {
          "base_uri": "https://localhost:8080/"
        },
        "id": "MOsChvWNef_b",
        "outputId": "0b703468-f152-41f8-f772-c400ac6bffab"
      },
      "execution_count": 395,
      "outputs": [
        {
          "output_type": "stream",
          "name": "stdout",
          "text": [
            "168/168 [==============================] - 0s 1ms/step - loss: 0.0409 - mae: 0.0619\n",
            "loss value:  0.04093257337808609\n",
            "Mean absolute error:  0.061884913593530655\n"
          ]
        }
      ]
    },
    {
      "cell_type": "code",
      "source": [
        "ann_mae = score[1]"
      ],
      "metadata": {
        "id": "vcHQRrm2trgc"
      },
      "execution_count": 396,
      "outputs": []
    },
    {
      "cell_type": "markdown",
      "source": [
        "####Validation"
      ],
      "metadata": {
        "id": "rvNZcbKimYwQ"
      }
    },
    {
      "cell_type": "code",
      "source": [
        "y_pred = model.predict(X_test)\n",
        "y_pred = (y_pred > 0.5)"
      ],
      "metadata": {
        "colab": {
          "base_uri": "https://localhost:8080/"
        },
        "id": "mjjrVFGpfw5p",
        "outputId": "06ab07fe-cb12-4eb7-ef95-fdda2a1c6bd8"
      },
      "execution_count": 397,
      "outputs": [
        {
          "output_type": "stream",
          "name": "stdout",
          "text": [
            "168/168 [==============================] - 0s 1ms/step\n"
          ]
        }
      ]
    },
    {
      "cell_type": "code",
      "source": [
        "confusion_matrix(y_test,y_pred)"
      ],
      "metadata": {
        "colab": {
          "base_uri": "https://localhost:8080/"
        },
        "id": "FJshHX0zmdO0",
        "outputId": "4b63775b-d823-439c-a45a-cf3b97357199"
      },
      "execution_count": 398,
      "outputs": [
        {
          "output_type": "execute_result",
          "data": {
            "text/plain": [
              "array([[5048,   79],\n",
              "       [ 187,   49]])"
            ]
          },
          "metadata": {},
          "execution_count": 398
        }
      ]
    },
    {
      "cell_type": "code",
      "source": [
        "disp_cm = ConfusionMatrixDisplay(confusion_matrix = cm, display_labels = logistic_regressor.classes_)\n",
        "disp_cm.plot()\n",
        "plt.show()"
      ],
      "metadata": {
        "colab": {
          "base_uri": "https://localhost:8080/",
          "height": 279
        },
        "id": "R9TPPQ_umk3T",
        "outputId": "9fe0a7b2-c419-411f-a238-bdb9c1566924"
      },
      "execution_count": 399,
      "outputs": [
        {
          "output_type": "display_data",
          "data": {
            "text/plain": [
              "<Figure size 432x288 with 2 Axes>"
            ],
            "image/png": "[encoded data removed]"
          },
          "metadata": {
            "needs_background": "light"
          }
        }
      ]
    },
    {
      "cell_type": "code",
      "source": [
        "print(classification_report(y_test,y_pred))\n",
        "ann_Score = 0.95"
      ],
      "metadata": {
        "colab": {
          "base_uri": "https://localhost:8080/"
        },
        "id": "qSC3d295mfkC",
        "outputId": "5088aa67-7338-45fb-a0c1-be8e9089364a"
      },
      "execution_count": 400,
      "outputs": [
        {
          "output_type": "stream",
          "name": "stdout",
          "text": [
            "              precision    recall  f1-score   support\n",
            "\n",
            "           0       0.96      0.98      0.97      5127\n",
            "           1       0.38      0.21      0.27       236\n",
            "\n",
            "    accuracy                           0.95      5363\n",
            "   macro avg       0.67      0.60      0.62      5363\n",
            "weighted avg       0.94      0.95      0.94      5363\n",
            "\n"
          ]
        }
      ]
    },
    {
      "cell_type": "markdown",
      "source": [
        "###Pretty Table"
      ],
      "metadata": {
        "id": "i7I1tSlMqk-o"
      }
    },
    {
      "cell_type": "code",
      "source": [
        "from prettytable import PrettyTable as pt\n",
        "table = pt([\"Type of Test\", \"Train Score\", \"Test Score\"])"
      ],
      "metadata": {
        "id": "vi4SUYIumid5"
      },
      "execution_count": 401,
      "outputs": []
    },
    {
      "cell_type": "code",
      "source": [
        "table.add_row([\"Logistic Regression\",lr_trainS,lr_testS])\n",
        "table.add_row([\"Decision Tree\",DT_TrainS,DT_TestS])\n",
        "table.add_row([\"Random Forest\",RFC_TrainS,RFC_TestS])\n",
        "table.add_row([\"Support Vector Machine Classifier\",SVC_TrainS,SVC_TestS])\n",
        "table.add_row([\"Artificial Neural Network\",ann_Score,\"unkown\"])"
      ],
      "metadata": {
        "id": "tNmeOlQtrGX2"
      },
      "execution_count": 402,
      "outputs": []
    },
    {
      "cell_type": "code",
      "source": [
        "print(table)"
      ],
      "metadata": {
        "colab": {
          "base_uri": "https://localhost:8080/"
        },
        "id": "Wj8qyuo-s4g7",
        "outputId": "fcd9084f-c2a3-42cc-c276-1f9f4391146a"
      },
      "execution_count": 403,
      "outputs": [
        {
          "output_type": "stream",
          "name": "stdout",
          "text": [
            "+-----------------------------------+--------------------+--------------------+\n",
            "|            Type of Test           |    Train Score     |     Test Score     |\n",
            "+-----------------------------------+--------------------+--------------------+\n",
            "|        Logistic Regression        | 0.956272434851522  | 0.9561812418422525 |\n",
            "|           Decision Tree           | 0.9574844995571302 | 0.9573000186462801 |\n",
            "|           Random Forest           | 0.9726819262505244 | 0.953757225433526  |\n",
            "| Support Vector Machine Classifier | 0.9567852314577409 | 0.9563677046429238 |\n",
            "|     Artificial Neural Network     |        0.95        |       unkown       |\n",
            "+-----------------------------------+--------------------+--------------------+\n"
          ]
        }
      ]
    },
    {
      "cell_type": "code",
      "source": [],
      "metadata": {
        "id": "H_lnWsJUs74w"
      },
      "execution_count": 403,
      "outputs": []
    }
  ]
}